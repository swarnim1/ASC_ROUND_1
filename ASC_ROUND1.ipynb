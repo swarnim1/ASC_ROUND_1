{
 "cells": [
  {
   "cell_type": "code",
   "execution_count": 1,
   "id": "4771f30b",
   "metadata": {},
   "outputs": [],
   "source": [
    "def generate_spiral_matrixn(n):\n",
    "    matrix = [[0]*n for _ in range(n)]\n",
    "    left, right = 0, n - 1\n",
    "    top, bottom = 0, n - 1\n",
    "    num = 1\n",
    "    # left to right\n",
    "    while left <= right and top <= bottom:\n",
    "        for i in range (left, right + 1):\n",
    "            matrix[top][i] = num\n",
    "            num += 1\n",
    "        top += 1\n",
    "        \n",
    "     #top to bottom   \n",
    "        for i in range (top , bottom + 1):\n",
    "            matrix[i][right] = num\n",
    "            num +=1\n",
    "        right -= 1\n",
    "        \n",
    "    # Now right to left \n",
    "        for i in range(right, left - 1, -1):\n",
    "            matrix[bottom][i] = num\n",
    "            num += 1\n",
    "        bottom -=1\n",
    "    \n",
    "    # & this will be bottom to top\n",
    "        for i in range(bottom, top -1, -1):\n",
    "            matrix[i][left] = num\n",
    "            num += 1\n",
    "        left  += 1\n",
    "    return matrix    \n",
    "        "
   ]
  },
  {
   "cell_type": "code",
   "execution_count": 10,
   "id": "1771efcd",
   "metadata": {},
   "outputs": [
    {
     "name": "stdout",
     "output_type": "stream",
     "text": [
      "[1, 2, 3, 4, 5]\n",
      "[16, 17, 18, 19, 6]\n",
      "[15, 24, 25, 20, 7]\n",
      "[14, 23, 22, 21, 8]\n",
      "[13, 12, 11, 10, 9]\n"
     ]
    }
   ],
   "source": [
    "n = 5\n",
    "result = generate_spiral_matrixn(n)\n",
    "\n",
    "for row in result:\n",
    "    print(row)"
   ]
  },
  {
   "cell_type": "code",
   "execution_count": 6,
   "id": "42a55937",
   "metadata": {},
   "outputs": [
    {
     "data": {
      "text/plain": [
       "[[0, 0, 0], [0, 0, 0], [0, 0, 0]]"
      ]
     },
     "execution_count": 6,
     "metadata": {},
     "output_type": "execute_result"
    }
   ],
   "source": [
    "matrix = [[0]*n for _ in range(n)]\n",
    "matrix"
   ]
  },
  {
   "cell_type": "code",
   "execution_count": null,
   "id": "f8da03f0",
   "metadata": {},
   "outputs": [],
   "source": []
  }
 ],
 "metadata": {
  "kernelspec": {
   "display_name": "Python 3 (ipykernel)",
   "language": "python",
   "name": "python3"
  },
  "language_info": {
   "codemirror_mode": {
    "name": "ipython",
    "version": 3
   },
   "file_extension": ".py",
   "mimetype": "text/x-python",
   "name": "python",
   "nbconvert_exporter": "python",
   "pygments_lexer": "ipython3",
   "version": "3.10.9"
  }
 },
 "nbformat": 4,
 "nbformat_minor": 5
}
